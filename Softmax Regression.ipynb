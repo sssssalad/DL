{
 "cells": [
  {
   "cell_type": "markdown",
   "metadata": {},
   "source": [
    "# 生成三类数据\n",
    "'+' 从高斯分布采样 (X, Y) ~ N(3, 6, 1, 1, 0)\n",
    "\n",
    "'o' 从高斯分布采样 (X, Y) ~ N(6, 3, 1, 1, 0)\n",
    "\n",
    "'*' 从高斯分布采样 (X, Y) ~ N(7, 7, 1, 1, 0)"
   ]
  },
  {
   "cell_type": "code",
   "execution_count": 1,
   "metadata": {
    "ExecuteTime": {
     "end_time": "2022-05-03T15:07:17.890939Z",
     "start_time": "2022-05-03T15:07:15.073805Z"
    }
   },
   "outputs": [
    {
     "data": {
      "image/png": "[encoded data removed]",
      "text/plain": [
       "<Figure size 432x288 with 1 Axes>"
      ]
     },
     "metadata": {
      "needs_background": "light"
     },
     "output_type": "display_data"
    }
   ],
   "source": [
    "import tensorflow as tf\n",
    "import matplotlib.pyplot as plt\n",
    "\n",
    "from matplotlib import animation, rc\n",
    "from IPython.display import HTML\n",
    "import matplotlib.cm as cm\n",
    "import numpy as np\n",
    "%matplotlib inline\n",
    "\n",
    "dot_num = 100\n",
    "x_p = np.random.normal(3., 1, dot_num)\n",
    "y_p = np.random.normal(6., 1, dot_num)\n",
    "y = np.ones(dot_num)\n",
    "C1 = np.array([x_p, y_p, y]).T\n",
    "\n",
    "x_n = np.random.normal(6., 1, dot_num)\n",
    "y_n = np.random.normal(3., 1, dot_num)\n",
    "y = np.zeros(dot_num)\n",
    "C2 = np.array([x_n, y_n, y]).T\n",
    "\n",
    "x_b = np.random.normal(7., 1, dot_num)\n",
    "y_b = np.random.normal(7., 1, dot_num)\n",
    "y = np.ones(dot_num)*2\n",
    "C3 = np.array([x_b, y_b, y]).T\n",
    "\n",
    "plt.scatter(C1[:, 0], C1[:, 1], c='b', marker='+')\n",
    "plt.scatter(C2[:, 0], C2[:, 1], c='g', marker='o')\n",
    "plt.scatter(C3[:, 0], C3[:, 1], c='r', marker='*')\n",
    "\n",
    "data_set = np.concatenate((C1, C2, C3), axis=0)\n",
    "np.random.shuffle(data_set)"
   ]
  },
  {
   "cell_type": "markdown",
   "metadata": {},
   "source": [
    "# 建立模型\n",
    "建立模型类，定义loss函数，定义一步梯度下降过程函数\n",
    "\n",
    "填空一：在__init__构造函数中建立模型所需的参数\n",
    "\n",
    "填空二：实现softmax的交叉熵损失函数(不使用tf内置的loss 函数)"
   ]
  },
  {
   "cell_type": "code",
   "execution_count": 2,
   "metadata": {
    "ExecuteTime": {
     "end_time": "2022-05-03T15:07:17.906913Z",
     "start_time": "2022-05-03T15:07:17.892911Z"
    }
   },
   "outputs": [],
   "source": [
    "epsilon = 1e-12\n",
    "class SoftmaxRegression():\n",
    "    def __init__(self):\n",
    "        '''============================='''\n",
    "        #todo 填空一，构建模型所需的参数 self.W, self.b 可以参考logistic-regression-exercise\n",
    "        '''============================='''\n",
    "        self.W = tf.Variable(initial_value=tf.random.uniform(shape=[2,3], minval=-0.1, maxval=0.1),\n",
    "                             dtype=tf.float32)\n",
    "        #self.W = tf.Variable(initial_value=tf.random.uniform(shape=[2,3], minval=-0.1, maxval=0.1),dtype=tf.float64)\n",
    "        self.b = tf.Variable(initial_value=tf.zeros(shape=[1]), \n",
    "                             dtype=tf.float32)\n",
    "        #self.b = tf.Variable(initial_value=tf.zeros(shape=[1]), dtype=tf.float64)\n",
    "\n",
    "        self.trainable_variables = [self.W, self.b]\n",
    "    @tf.function\n",
    "    def __call__(self, inp):\n",
    "        \n",
    "        inp = np.array(inp, dtype='float32')\n",
    "        \n",
    "        logits = tf.matmul(inp, self.W) + self.b # shape(N, 3)\n",
    "        pred = tf.nn.softmax(logits)\n",
    "        return pred    \n",
    "    \n",
    "@tf.function\n",
    "def compute_loss(pred, label):\n",
    "#     label = tf.one_hot(tf.cast(label, dtype=tf.int32), dtype=tf.float32, depth=3)\n",
    "    label = tf.one_hot(tf.cast(label, dtype=tf.float32), dtype=tf.float32, depth=3)\n",
    "    '''============================='''\n",
    "    #输入label shape(N, 3), pred shape(N, 3)\n",
    "    #输出 losses shape(N,) 每一个样本一个loss\n",
    "    #todo 填空二，实现softmax的交叉熵损失函数(不使用tf内置的loss 函数)\n",
    "    '''============================='''\n",
    "    losses = -tf.reduce_sum(label * tf.math.log(pred),axis=1)\n",
    "    loss = tf.reduce_mean(losses)\n",
    "    \n",
    "    accuracy = tf.reduce_mean(tf.cast(tf.equal(tf.argmax(label,axis=1), tf.argmax(pred, axis=1)), dtype=tf.float32))\n",
    "    return loss, accuracy\n",
    "\n",
    "@tf.function\n",
    "def train_one_step(model, optimizer, x, y):\n",
    "    with tf.GradientTape() as tape:\n",
    "        pred = model(x)\n",
    "        loss, accuracy = compute_loss(pred, y)\n",
    "        \n",
    "    grads = tape.gradient(loss, model.trainable_variables)\n",
    "    optimizer.apply_gradients(zip(grads, model.trainable_variables))\n",
    "    return loss, accuracy"
   ]
  },
  {
   "cell_type": "markdown",
   "metadata": {},
   "source": [
    "# 实例化一个模型，进行训练"
   ]
  },
  {
   "cell_type": "code",
   "execution_count": 3,
   "metadata": {
    "ExecuteTime": {
     "end_time": "2022-05-03T15:07:19.296807Z",
     "start_time": "2022-05-03T15:07:17.908910Z"
    }
   },
   "outputs": [
    {
     "ename": "ValueError",
     "evalue": "in user code:\n\n    File \"<ipython-input-2-249674762441>\", line 40, in train_one_step  *\n        pred = model(x)\n    File \"<ipython-input-2-249674762441>\", line 16, in __call__  *\n        inp = np.array(inp, dtype='float32')\n\n    ValueError: setting an array element with a sequence.\n",
     "output_type": "error",
     "traceback": [
      "\u001b[1;31m---------------------------------------------------------------------------\u001b[0m",
      "\u001b[1;31mValueError\u001b[0m                                Traceback (most recent call last)",
      "\u001b[1;32m<ipython-input-3-8e5700b6fa7d>\u001b[0m in \u001b[0;36m<module>\u001b[1;34m()\u001b[0m\n\u001b[0;32m      4\u001b[0m \u001b[0mx\u001b[0m \u001b[1;33m=\u001b[0m \u001b[0mlist\u001b[0m\u001b[1;33m(\u001b[0m\u001b[0mzip\u001b[0m\u001b[1;33m(\u001b[0m\u001b[0mx1\u001b[0m\u001b[1;33m,\u001b[0m \u001b[0mx2\u001b[0m\u001b[1;33m)\u001b[0m\u001b[1;33m)\u001b[0m\u001b[1;33m\u001b[0m\u001b[0m\n\u001b[0;32m      5\u001b[0m \u001b[1;32mfor\u001b[0m \u001b[0mi\u001b[0m \u001b[1;32min\u001b[0m \u001b[0mrange\u001b[0m\u001b[1;33m(\u001b[0m\u001b[1;36m1000\u001b[0m\u001b[1;33m)\u001b[0m\u001b[1;33m:\u001b[0m\u001b[1;33m\u001b[0m\u001b[0m\n\u001b[1;32m----> 6\u001b[1;33m     \u001b[0mloss\u001b[0m\u001b[1;33m,\u001b[0m \u001b[0maccuracy\u001b[0m \u001b[1;33m=\u001b[0m \u001b[0mtrain_one_step\u001b[0m\u001b[1;33m(\u001b[0m\u001b[0mmodel\u001b[0m\u001b[1;33m,\u001b[0m \u001b[0mopt\u001b[0m\u001b[1;33m,\u001b[0m \u001b[0mx\u001b[0m\u001b[1;33m,\u001b[0m \u001b[0my\u001b[0m\u001b[1;33m)\u001b[0m\u001b[1;33m\u001b[0m\u001b[0m\n\u001b[0m\u001b[0;32m      7\u001b[0m     \u001b[1;32mif\u001b[0m \u001b[0mi\u001b[0m\u001b[1;33m%\u001b[0m\u001b[1;36m50\u001b[0m\u001b[1;33m==\u001b[0m\u001b[1;36m49\u001b[0m\u001b[1;33m:\u001b[0m\u001b[1;33m\u001b[0m\u001b[0m\n\u001b[0;32m      8\u001b[0m         \u001b[0mprint\u001b[0m\u001b[1;33m(\u001b[0m\u001b[1;34mf'loss: {loss.numpy():.4}\\t accuracy: {accuracy.numpy():.4}'\u001b[0m\u001b[1;33m)\u001b[0m\u001b[1;33m\u001b[0m\u001b[0m\n",
      "\u001b[1;32mD:\\Anaconda\\lib\\site-packages\\tensorflow\\python\\util\\traceback_utils.py\u001b[0m in \u001b[0;36merror_handler\u001b[1;34m(*args, **kwargs)\u001b[0m\n\u001b[0;32m    151\u001b[0m     \u001b[1;32mexcept\u001b[0m \u001b[0mException\u001b[0m \u001b[1;32mas\u001b[0m \u001b[0me\u001b[0m\u001b[1;33m:\u001b[0m\u001b[1;33m\u001b[0m\u001b[0m\n\u001b[0;32m    152\u001b[0m       \u001b[0mfiltered_tb\u001b[0m \u001b[1;33m=\u001b[0m \u001b[0m_process_traceback_frames\u001b[0m\u001b[1;33m(\u001b[0m\u001b[0me\u001b[0m\u001b[1;33m.\u001b[0m\u001b[0m__traceback__\u001b[0m\u001b[1;33m)\u001b[0m\u001b[1;33m\u001b[0m\u001b[0m\n\u001b[1;32m--> 153\u001b[1;33m       \u001b[1;32mraise\u001b[0m \u001b[0me\u001b[0m\u001b[1;33m.\u001b[0m\u001b[0mwith_traceback\u001b[0m\u001b[1;33m(\u001b[0m\u001b[0mfiltered_tb\u001b[0m\u001b[1;33m)\u001b[0m \u001b[1;32mfrom\u001b[0m \u001b[1;32mNone\u001b[0m\u001b[1;33m\u001b[0m\u001b[0m\n\u001b[0m\u001b[0;32m    154\u001b[0m     \u001b[1;32mfinally\u001b[0m\u001b[1;33m:\u001b[0m\u001b[1;33m\u001b[0m\u001b[0m\n\u001b[0;32m    155\u001b[0m       \u001b[1;32mdel\u001b[0m \u001b[0mfiltered_tb\u001b[0m\u001b[1;33m\u001b[0m\u001b[0m\n",
      "\u001b[1;32mD:\\Anaconda\\lib\\site-packages\\tensorflow\\python\\framework\\func_graph.py\u001b[0m in \u001b[0;36mautograph_handler\u001b[1;34m(*args, **kwargs)\u001b[0m\n\u001b[0;32m   1127\u001b[0m           \u001b[1;32mexcept\u001b[0m \u001b[0mException\u001b[0m \u001b[1;32mas\u001b[0m \u001b[0me\u001b[0m\u001b[1;33m:\u001b[0m  \u001b[1;31m# pylint:disable=broad-except\u001b[0m\u001b[1;33m\u001b[0m\u001b[0m\n\u001b[0;32m   1128\u001b[0m             \u001b[1;32mif\u001b[0m \u001b[0mhasattr\u001b[0m\u001b[1;33m(\u001b[0m\u001b[0me\u001b[0m\u001b[1;33m,\u001b[0m \u001b[1;34m\"ag_error_metadata\"\u001b[0m\u001b[1;33m)\u001b[0m\u001b[1;33m:\u001b[0m\u001b[1;33m\u001b[0m\u001b[0m\n\u001b[1;32m-> 1129\u001b[1;33m               \u001b[1;32mraise\u001b[0m \u001b[0me\u001b[0m\u001b[1;33m.\u001b[0m\u001b[0mag_error_metadata\u001b[0m\u001b[1;33m.\u001b[0m\u001b[0mto_exception\u001b[0m\u001b[1;33m(\u001b[0m\u001b[0me\u001b[0m\u001b[1;33m)\u001b[0m\u001b[1;33m\u001b[0m\u001b[0m\n\u001b[0m\u001b[0;32m   1130\u001b[0m             \u001b[1;32melse\u001b[0m\u001b[1;33m:\u001b[0m\u001b[1;33m\u001b[0m\u001b[0m\n\u001b[0;32m   1131\u001b[0m               \u001b[1;32mraise\u001b[0m\u001b[1;33m\u001b[0m\u001b[0m\n",
      "\u001b[1;31mValueError\u001b[0m: in user code:\n\n    File \"<ipython-input-2-249674762441>\", line 40, in train_one_step  *\n        pred = model(x)\n    File \"<ipython-input-2-249674762441>\", line 16, in __call__  *\n        inp = np.array(inp, dtype='float32')\n\n    ValueError: setting an array element with a sequence.\n"
     ]
    }
   ],
   "source": [
    "model = SoftmaxRegression()\n",
    "opt = tf.keras.optimizers.SGD(learning_rate=0.01)\n",
    "x1, x2, y = list(zip(*data_set))\n",
    "x = list(zip(x1, x2))\n",
    "for i in range(1000):\n",
    "    loss, accuracy = train_one_step(model, opt, x, y)\n",
    "    if i%50==49:\n",
    "        print(f'loss: {loss.numpy():.4}\\t accuracy: {accuracy.numpy():.4}')"
   ]
  },
  {
   "cell_type": "markdown",
   "metadata": {},
   "source": [
    "# 结果展示"
   ]
  },
  {
   "cell_type": "code",
   "execution_count": null,
   "metadata": {
    "ExecuteTime": {
     "end_time": "2022-05-03T15:07:19.296807Z",
     "start_time": "2022-05-03T15:07:15.075Z"
    }
   },
   "outputs": [],
   "source": [
    "plt.scatter(C1[:, 0], C1[:, 1], c='b', marker='+')\n",
    "plt.scatter(C2[:, 0], C2[:, 1], c='g', marker='o')\n",
    "plt.scatter(C3[:, 0], C3[:, 1], c='r', marker='*')\n",
    "\n",
    "x = np.arange(0., 10., 0.1)\n",
    "y = np.arange(0., 10., 0.1)\n",
    "\n",
    "X, Y = np.meshgrid(x, y)\n",
    "inp = np.array(list(zip(X.reshape(-1), Y.reshape(-1))), dtype=np.float32)\n",
    "print(inp.shape)\n",
    "Z = model(inp)\n",
    "Z = np.argmax(Z, axis=1)\n",
    "Z = Z.reshape(X.shape)\n",
    "plt.contour(X,Y,Z)\n",
    "plt.show()"
   ]
  }
 ],
 "metadata": {
  "kernelspec": {
   "display_name": "Python 3",
   "language": "python",
   "name": "python3"
  },
  "language_info": {
   "codemirror_mode": {
    "name": "ipython",
    "version": 3
   },
   "file_extension": ".py",
   "mimetype": "text/x-python",
   "name": "python",
   "nbconvert_exporter": "python",
   "pygments_lexer": "ipython3",
   "version": "3.7.0"
  },
  "toc": {
   "base_numbering": 1,
   "nav_menu": {},
   "number_sections": true,
   "sideBar": true,
   "skip_h1_title": false,
   "title_cell": "Table of Contents",
   "title_sidebar": "Contents",
   "toc_cell": false,
   "toc_position": {},
   "toc_section_display": true,
   "toc_window_display": false
  },
  "varInspector": {
   "cols": {
    "lenName": 16,
    "lenType": 16,
    "lenVar": 40
   },
   "kernels_config": {
    "python": {
     "delete_cmd_postfix": "",
     "delete_cmd_prefix": "del ",
     "library": "var_list.py",
     "varRefreshCmd": "print(var_dic_list())"
    },
    "r": {
     "delete_cmd_postfix": ") ",
     "delete_cmd_prefix": "rm(",
     "library": "var_list.r",
     "varRefreshCmd": "cat(var_dic_list()) "
    }
   },
   "types_to_exclude": [
    "module",
    "function",
    "builtin_function_or_method",
    "instance",
    "_Feature"
   ],
   "window_display": false
  }
 },
 "nbformat": 4,
 "nbformat_minor": 5
}
